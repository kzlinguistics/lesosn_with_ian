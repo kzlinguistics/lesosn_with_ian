{
  "nbformat": 4,
  "nbformat_minor": 0,
  "metadata": {
    "colab": {
      "name": "Lesson 1 Problems",
      "provenance": [],
      "machine_shape": "hm",
      "background_execution": "on",
      "collapsed_sections": [],
      "authorship_tag": "ABX9TyOl4jNkVImYSILF/HPAgEtQ",
      "include_colab_link": true
    },
    "kernelspec": {
      "name": "python3",
      "display_name": "Python 3"
    },
    "language_info": {
      "name": "python"
    },
    "accelerator": "GPU",
    "gpuClass": "standard"
  },
  "cells": [
    {
      "cell_type": "markdown",
      "metadata": {
        "id": "view-in-github",
        "colab_type": "text"
      },
      "source": [
        "<a href=\"https://colab.research.google.com/github/kzlinguistics/lesson_with_ian/blob/main/Lesson_1_Problems.ipynb\" target=\"_parent\"><img src=\"https://colab.research.google.com/assets/colab-badge.svg\" alt=\"Open In Colab\"/></a>"
      ]
    },
    {
      "cell_type": "markdown",
      "source": [
        "Problem 1- https://leetcode.com/problems/minimum-depth-of-binary-tree/"
      ],
      "metadata": {
        "id": "WutKdBgrQ-q6"
      }
    },
    {
      "cell_type": "code",
      "execution_count": 1,
      "metadata": {
        "id": "xo00EckmD_I-"
      },
      "outputs": [],
      "source": [
        "class Solution:\n",
        "    def minDepth(self, root: Optional[TreeNode]) -> int:\n",
        "        \n",
        "        if root == None:\n",
        "            return 0\n",
        "        if root.left==None or root.right==None:\n",
        "            return self.minDepth(root.left)+self.minDepth(root.right)+1\n",
        "        return min(self.minDepth(root.right),self.minDepth(root.left))+1\n"
      ]
    },
    {
      "cell_type": "markdown",
      "source": [
        "Problem 2- https://leetcode.com/problems/course-schedule/"
      ],
      "metadata": {
        "id": "jiedpGZPVvkC"
      }
    },
    {
      "cell_type": "code",
      "source": [
        ""
      ],
      "metadata": {
        "id": "flSZZ-jTWPmy"
      },
      "execution_count": null,
      "outputs": []
    }
  ]
}