{
 "cells": [
  {
   "cell_type": "markdown",
   "metadata": {},
   "source": [
    "this is for problem 1480- Running Sum "
   ]
  },
  {
   "cell_type": "code",
   "execution_count": 4,
   "metadata": {},
   "outputs": [],
   "source": [
    "# 1480 \n",
    "def runningSum(nums):     \n",
    "    n = len(nums)\n",
    "    result = list()\n",
    "    \n",
    "    if n == 0: return result\n",
    "    \n",
    "    currentSum = 0\n",
    "    for i in range(n):\n",
    "        currentSum += nums[i]\n",
    "        result.append(currentSum)\n",
    "    \n",
    "    return result\n"
   ]
  },
  {
   "cell_type": "code",
   "execution_count": 5,
   "metadata": {},
   "outputs": [
    {
     "data": {
      "text/plain": [
       "[3, 4, 6, 16, 17]"
      ]
     },
     "execution_count": 5,
     "metadata": {},
     "output_type": "execute_result"
    }
   ],
   "source": [
    "#testing \n",
    "#things check out \n",
    "\n",
    "num = [3,1,2,10,1]\n",
    "\n",
    "runningSum(num)"
   ]
  },
  {
   "cell_type": "markdown",
   "metadata": {},
   "source": [
    "This is for problem 1672. Richest Customers"
   ]
  },
  {
   "cell_type": "code",
   "execution_count": 2,
   "metadata": {},
   "outputs": [],
   "source": [
    "def maximumWealth(accounts):\n",
    "        maxWealth = 0\n",
    "        #this is to go through the sublist\n",
    "        for i in range(len(accounts)):\n",
    "            totalWealth = sum(accounts[i]) #this is to go through the elements in sublist\n",
    "            maxWealth = max(maxWealth, totalWealth) \n",
    "        return maxWealth\n"
   ]
  },
  {
   "cell_type": "code",
   "execution_count": 1,
   "metadata": {},
   "outputs": [],
   "source": [
    "def maximumWealth1(accounts):\n",
    "        maxWealth = 0\n",
    "        #this is to go through the sublist\n",
    "        \n",
    "        for account in accounts: \n",
    "            totalWealth= sum(account)\n",
    "            maxWealth = max(maxWealth, totalWealth) \n",
    "        return maxWealth"
   ]
  },
  {
   "cell_type": "code",
   "execution_count": 2,
   "metadata": {},
   "outputs": [
    {
     "data": {
      "text/plain": [
       "10"
      ]
     },
     "execution_count": 2,
     "metadata": {},
     "output_type": "execute_result"
    }
   ],
   "source": [
    "accounts = [[1,5],[7,3],[3,5]]\n",
    "maximumWealth1(accounts)"
   ]
  },
  {
   "cell_type": "code",
   "execution_count": 3,
   "metadata": {},
   "outputs": [
    {
     "data": {
      "text/plain": [
       "17"
      ]
     },
     "execution_count": 3,
     "metadata": {},
     "output_type": "execute_result"
    }
   ],
   "source": [
    "accounts = [[2,8,7],[7,1,3],[1,9,5]]\n",
    "maximumWealth1(accounts)"
   ]
  },
  {
   "cell_type": "markdown",
   "metadata": {},
   "source": [
    "Prob 412- Fizz Buzz"
   ]
  },
  {
   "cell_type": "code",
   "execution_count": null,
   "metadata": {},
   "outputs": [],
   "source": []
  }
 ],
 "metadata": {
  "kernelspec": {
   "display_name": "Python 3.8.10 64-bit",
   "language": "python",
   "name": "python3"
  },
  "language_info": {
   "codemirror_mode": {
    "name": "ipython",
    "version": 3
   },
   "file_extension": ".py",
   "mimetype": "text/x-python",
   "name": "python",
   "nbconvert_exporter": "python",
   "pygments_lexer": "ipython3",
   "version": "3.8.10"
  },
  "orig_nbformat": 4,
  "vscode": {
   "interpreter": {
    "hash": "916dbcbb3f70747c44a77c7bcd40155683ae19c65e1c03b4aa3499c5328201f1"
   }
  }
 },
 "nbformat": 4,
 "nbformat_minor": 2
}
