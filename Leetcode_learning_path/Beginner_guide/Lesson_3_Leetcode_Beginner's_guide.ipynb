{
 "cells": [
  {
   "cell_type": "markdown",
   "metadata": {},
   "source": [
    "this is for problem 1480- Running Sum "
   ]
  },
  {
   "cell_type": "code",
   "execution_count": 4,
   "metadata": {},
   "outputs": [],
   "source": [
    "# 1480 \n",
    "def runningSum(nums):     \n",
    "    n = len(nums)\n",
    "    result = list()\n",
    "    \n",
    "    if n == 0: return result\n",
    "    \n",
    "    currentSum = 0\n",
    "    for i in range(n):\n",
    "        currentSum += nums[i]\n",
    "        result.append(currentSum)\n",
    "    \n",
    "    return result\n"
   ]
  },
  {
   "cell_type": "code",
   "execution_count": 5,
   "metadata": {},
   "outputs": [
    {
     "data": {
      "text/plain": [
       "[3, 4, 6, 16, 17]"
      ]
     },
     "execution_count": 5,
     "metadata": {},
     "output_type": "execute_result"
    }
   ],
   "source": [
    "#testing \n",
    "#things check out \n",
    "\n",
    "num = [3,1,2,10,1]\n",
    "\n",
    "runningSum(num)"
   ]
  },
  {
   "cell_type": "markdown",
   "metadata": {},
   "source": [
    "This is for problem 1672. Richest Customers"
   ]
  },
  {
   "cell_type": "code",
   "execution_count": 2,
   "metadata": {},
   "outputs": [],
   "source": [
    "def maximumWealth(accounts):\n",
    "        maxWealth = 0\n",
    "        #this is to go through the sublist\n",
    "        for i in range(len(accounts)):\n",
    "            totalWealth = sum(accounts[i]) #this is to go through the elements in sublist\n",
    "            maxWealth = max(maxWealth, totalWealth) \n",
    "        return maxWealth\n"
   ]
  },
  {
   "cell_type": "code",
   "execution_count": 1,
   "metadata": {},
   "outputs": [],
   "source": [
    "def maximumWealth1(accounts):\n",
    "        maxWealth = 0\n",
    "        #this is to go through the sublist\n",
    "        \n",
    "        for account in accounts: \n",
    "            totalWealth= sum(account)\n",
    "            maxWealth = max(maxWealth, totalWealth) \n",
    "        return maxWealth"
   ]
  },
  {
   "cell_type": "code",
   "execution_count": 2,
   "metadata": {},
   "outputs": [
    {
     "data": {
      "text/plain": [
       "10"
      ]
     },
     "execution_count": 2,
     "metadata": {},
     "output_type": "execute_result"
    }
   ],
   "source": [
    "accounts = [[1,5],[7,3],[3,5]]\n",
    "maximumWealth1(accounts)"
   ]
  },
  {
   "cell_type": "code",
   "execution_count": 3,
   "metadata": {},
   "outputs": [
    {
     "data": {
      "text/plain": [
       "17"
      ]
     },
     "execution_count": 3,
     "metadata": {},
     "output_type": "execute_result"
    }
   ],
   "source": [
    "accounts = [[2,8,7],[7,1,3],[1,9,5]]\n",
    "maximumWealth1(accounts)"
   ]
  },
  {
   "cell_type": "markdown",
   "metadata": {},
   "source": [
    "Prob 412- Fizz Buzz\n",
    "\n",
    "https://leetcode.com/problems/fizz-buzz/submissions/"
   ]
  },
  {
   "cell_type": "code",
   "execution_count": 1,
   "metadata": {},
   "outputs": [],
   "source": [
    "def fizzBuzz(n):\n",
    "    \n",
    "    list_of_output = []\n",
    "    \n",
    "    for i in range(1, n+1):\n",
    "        \n",
    "        if i % 3 == 0 and i % 5 == 0:\n",
    "            # i is multiple of both 3 and 5\n",
    "            list_of_output.append('FizzBuzz')\n",
    "        \n",
    "        elif i % 3 == 0:\n",
    "            # i is multiple of 3 only\n",
    "            list_of_output.append('Fizz')\n",
    "        \n",
    "        elif i % 5 == 0:\n",
    "            # i is mupltiple of 5 only\n",
    "            list_of_output.append('Buzz')\n",
    "        \n",
    "        else:\n",
    "            # i is neither multiple of 3 nor multiple of 5.\n",
    "            list_of_output.append( str(i) )\n",
    "            \n",
    "    \n",
    "    return list_of_output\n",
    "\n",
    "                \n"
   ]
  },
  {
   "cell_type": "code",
   "execution_count": 2,
   "metadata": {},
   "outputs": [
    {
     "data": {
      "text/plain": [
       "['1',\n",
       " '2',\n",
       " 'Fizz',\n",
       " '4',\n",
       " 'Buzz',\n",
       " 'Fizz',\n",
       " '7',\n",
       " '8',\n",
       " 'Fizz',\n",
       " 'Buzz',\n",
       " '11',\n",
       " 'Fizz',\n",
       " '13',\n",
       " '14',\n",
       " 'FizzBuzz',\n",
       " '16']"
      ]
     },
     "execution_count": 2,
     "metadata": {},
     "output_type": "execute_result"
    }
   ],
   "source": [
    "fizzBuzz(16)"
   ]
  },
  {
   "cell_type": "markdown",
   "metadata": {},
   "source": [
    "PROB 1342- Number of Steps to Reduce a Number to Zero\n",
    "\n",
    "https://leetcode.com/problems/number-of-steps-to-reduce-a-number-to-zero/"
   ]
  },
  {
   "cell_type": "code",
   "execution_count": 1,
   "metadata": {},
   "outputs": [],
   "source": [
    "def numberOfSteps(num):\n",
    "    \n",
    "    count = 0\n",
    "    \n",
    "    \n",
    "    while (num!=0):\n",
    "        \n",
    "        num = num/2 if(num %2 == 0) else (num -1)\n",
    "        \n",
    "        count +=1 \n",
    "        \n",
    "        \n",
    "    return count \n",
    "            "
   ]
  },
  {
   "cell_type": "code",
   "execution_count": 2,
   "metadata": {},
   "outputs": [
    {
     "data": {
      "text/plain": [
       "6"
      ]
     },
     "execution_count": 2,
     "metadata": {},
     "output_type": "execute_result"
    }
   ],
   "source": [
    "numberOfSteps(14)"
   ]
  },
  {
   "cell_type": "markdown",
   "metadata": {},
   "source": [
    "PROB 876 Middle of The Linked List \n",
    "\n",
    "https://leetcode.com/problems/middle-of-the-linked-list/\n",
    "\n",
    "Solution: https://www.youtube.com/watch?v=VqxB5WvQgwo"
   ]
  },
  {
   "cell_type": "code",
   "execution_count": null,
   "metadata": {},
   "outputs": [],
   "source": [
    "def middleNode(self, head):\n",
    "    # While slow moves one step forward, fast moves two steps forward.\n",
    "    # Finally, when fast reaches the end, slow happens to be in the middle of the linked list.\n",
    "    slow = fast = head\n",
    "    while fast and fast.next:\n",
    "        slow = slow.next\n",
    "        fast = fast.next.next\n",
    "    return slow\n"
   ]
  },
  {
   "cell_type": "markdown",
   "metadata": {},
   "source": [
    "PROBLEM 383 - Ransome Note \n",
    "https://leetcode.com/problems/ransom-note/\n",
    "\n",
    "\n",
    "The idea- cutting things out of a mag to see if it works to put together in the randsome note "
   ]
  },
  {
   "cell_type": "code",
   "execution_count": 1,
   "metadata": {},
   "outputs": [],
   "source": [
    "#difference between set and array \n",
    "\n",
    "#arrays are ordered and sets are not \n",
    "#sets are also unique \n",
    "\n",
    "def canConstruct(ransomNote: str, magazine: str) -> bool:\n",
    "    for i in set(ransomNote):\n",
    "        if magazine.count(i) < ransomNote.count(i):\n",
    "            return False\n",
    "    return True\n"
   ]
  },
  {
   "cell_type": "code",
   "execution_count": 3,
   "metadata": {},
   "outputs": [
    {
     "data": {
      "text/plain": [
       "True"
      ]
     },
     "execution_count": 3,
     "metadata": {},
     "output_type": "execute_result"
    }
   ],
   "source": [
    "canConstruct(\"a,b,c\",\"a,b,c,c\")"
   ]
  }
 ],
 "metadata": {
  "kernelspec": {
   "display_name": "Python 3.8.10 64-bit",
   "language": "python",
   "name": "python3"
  },
  "language_info": {
   "codemirror_mode": {
    "name": "ipython",
    "version": 3
   },
   "file_extension": ".py",
   "mimetype": "text/x-python",
   "name": "python",
   "nbconvert_exporter": "python",
   "pygments_lexer": "ipython3",
   "version": "3.8.10"
  },
  "orig_nbformat": 4,
  "vscode": {
   "interpreter": {
    "hash": "916dbcbb3f70747c44a77c7bcd40155683ae19c65e1c03b4aa3499c5328201f1"
   }
  }
 },
 "nbformat": 4,
 "nbformat_minor": 2
}
