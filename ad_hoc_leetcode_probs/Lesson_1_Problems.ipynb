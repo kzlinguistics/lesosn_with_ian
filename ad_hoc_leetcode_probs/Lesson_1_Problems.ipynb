{
  "nbformat": 4,
  "nbformat_minor": 0,
  "metadata": {
    "colab": {
      "name": "Lesson 1 Problems",
      "provenance": [],
      "machine_shape": "hm",
      "background_execution": "on",
      "collapsed_sections": [],
      "authorship_tag": "ABX9TyMvvqhhI2zy3DcYl1YT/r79",
      "include_colab_link": true
    },
    "kernelspec": {
      "name": "python3",
      "display_name": "Python 3"
    },
    "language_info": {
      "name": "python"
    },
    "accelerator": "GPU",
    "gpuClass": "standard"
  },
  "cells": [
    {
      "cell_type": "markdown",
      "metadata": {
        "id": "view-in-github",
        "colab_type": "text"
      },
      "source": [
        "<a href=\"https://colab.research.google.com/github/kzlinguistics/lesson_with_ian/blob/main/Lesson_1_Problems.ipynb\" target=\"_parent\"><img src=\"https://colab.research.google.com/assets/colab-badge.svg\" alt=\"Open In Colab\"/></a>"
      ]
    },
    {
      "cell_type": "markdown",
      "source": [
        "Problem 1- https://leetcode.com/problems/minimum-depth-of-binary-tree/"
      ],
      "metadata": {
        "id": "WutKdBgrQ-q6"
      }
    },
    {
      "cell_type": "markdown",
      "source": [
        "Yes. the self parameter is a reference to the object to the to the object. So when leet code runs this code, it's going to instantiate an object of type solution, right? that's the class. So because your function is part of this class, What leetcode does when it runs your solution is it creates an object of type solution, which will automatically have all of the corresponding functions on it. "
      ],
      "metadata": {
        "id": "Uq-RcLNoz4g_"
      }
    },
    {
      "cell_type": "markdown",
      "source": [
        "**Traning reason**\n",
        "\n",
        "This is a really good point. And I'm glad you brought it up, because there is a sense in which these types of problems are very abstracted from from like, day to day work.  Or like real world work. These are algorithm problems right? What we're trying to train here is like, something that's lower level right like a lower level understanding of  of like.  So here's the thing, as we as we we gain more as we do more and more work in in software development, we come across more and more interesting and challenging problems. And it's sort of unpredictable which of those problems you're going to encounter, right? What the advantage of training things like data structures and algorithms is, is that it means that you when you come across a new problem, you have an intuition for what types of algorithms are useful for solving it and the reason that I started us with tree traversal algorithms is because they're part of a larger suite of problems called Graph. traversal. problems, like trees are a special case of graphs and graph traversal problems come up all over in software. They're just incredibly common. And it's things like in your file system that looks like a tree traversal, right. When you have elements in a network that looks like a graph, right? And so very often we have we're using networks that represent things that exist in the real world, whether it be clients and their and their, you know, custom cost like companies and their customers or it could tree could be a your personnel tree at your company. It could be relationships in a social network. It could be in the financial world, we see this stuff come up in terms of I'm actually sure lots of ways that I don't know about, But one thing that I am aware about is it's used by some of the hedge funds in terms of trying to make assessments about relationships between different stocks and things like that.\n",
        "\n",
        "#################################\n",
        "\n",
        "\n",
        "\n",
        "**NLP**\n",
        "\n",
        "I'm sure there's lots and lots of stuff in the financial industry that I'm not aware of that they use this for. It's also used in natural language processing, for doing grammars, which is probably not something that you're going to look at but if you look at the universal grammars like Noam Chomsky skall universal grammars, those are represented in a graph structures as well. "
      ],
      "metadata": {
        "id": "Zfo-lsF21LDt"
      }
    },
    {
      "cell_type": "code",
      "execution_count": null,
      "metadata": {
        "id": "xo00EckmD_I-"
      },
      "outputs": [],
      "source": [
        "#completely insginificant- Class \"solution\"\n",
        "\n",
        "class Solution:\n",
        "\n",
        "  #What you're saying is the function min depth is defined on an object. And the \n",
        "  #object it's defined on is this self object. It's the it's the sort of like  \n",
        "  #in this case, it's basically a dummy object, right? it's basically an empty \n",
        "  #object that we're just using to store this function in depth. but in a more\n",
        "  #complicated object oriented example, that object might have lots of data \n",
        "  #associated with it and there may be many functions on it. \n",
        "\n",
        "  #root is an object of the treenode \n",
        "    def minDepth(self, root: Optional[TreeNode]) -> int:\n",
        "        \n",
        "        if root == None:\n",
        "            return 0\n",
        "        if root.left==None or root.right==None:\n",
        "          #assume recursion works \n",
        "            return self.minDepth(root.left)+self.minDepth(root.right)+1\n",
        "\n",
        "        return min(self.minDepth(root.right),self.minDepth(root.left))+1\n"
      ]
    },
    {
      "cell_type": "markdown",
      "source": [
        "Problem 2- https://leetcode.com/problems/course-schedule/"
      ],
      "metadata": {
        "id": "jiedpGZPVvkC"
      }
    },
    {
      "cell_type": "code",
      "source": [
        ""
      ],
      "metadata": {
        "id": "flSZZ-jTWPmy"
      },
      "execution_count": null,
      "outputs": []
    }
  ]
}